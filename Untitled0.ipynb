{
  "nbformat": 4,
  "nbformat_minor": 0,
  "metadata": {
    "colab": {
      "provenance": [],
      "authorship_tag": "ABX9TyN93nqIdnMtt7x89dDFR5aP",
      "include_colab_link": true
    },
    "kernelspec": {
      "name": "python3",
      "display_name": "Python 3"
    },
    "language_info": {
      "name": "python"
    }
  },
  "cells": [
    {
      "cell_type": "markdown",
      "metadata": {
        "id": "view-in-github",
        "colab_type": "text"
      },
      "source": [
        "<a href=\"https://colab.research.google.com/github/ryansilvatrb/Calculo_de_Metricas_de_Avaliacao_de_Aprendizado/blob/main/Untitled0.ipynb\" target=\"_parent\"><img src=\"https://colab.research.google.com/assets/colab-badge.svg\" alt=\"Open In Colab\"/></a>"
      ]
    },
    {
      "cell_type": "code",
      "execution_count": 1,
      "metadata": {
        "colab": {
          "base_uri": "https://localhost:8080/"
        },
        "id": "LQn4cuOiuZBY",
        "outputId": "7e1b7e4f-7714-4f4c-d14b-f378acf292ca"
      },
      "outputs": [
        {
          "output_type": "stream",
          "name": "stdout",
          "text": [
            "Matriz de Confusão: \n",
            "VP=42, FN=8, FP=5, VN=45\n",
            "\n",
            "Métricas de Avaliação:\n",
            "Sensibilidade (Recall): 0.84\n",
            "Especificidade: 0.90\n",
            "Acurácia: 0.87\n",
            "Precisão: 0.89\n",
            "F-score: 0.87\n"
          ]
        }
      ],
      "source": [
        "# Desafio DIO - Cálculo de Métricas de Avaliação de Aprendizado\n",
        "\n",
        "# Definindo funções para cada métrica\n",
        "def sensibilidade(VP, FN):\n",
        "    return VP / (VP + FN)\n",
        "\n",
        "def especificidade(VN, FP):\n",
        "    return VN / (VN + FP)\n",
        "\n",
        "def acuracia(VP, VN, FP, FN):\n",
        "    return (VP + VN) / (VP + VN + FP + FN)\n",
        "\n",
        "def precisao(VP, FP):\n",
        "    return VP / (VP + FP)\n",
        "\n",
        "def f_score(VP, FP, FN):\n",
        "    P = precisao(VP, FP)\n",
        "    S = sensibilidade(VP, FN)\n",
        "    return 2 * (P * S) / (P + S)\n",
        "\n",
        "# Exemplo de matriz de confusão\n",
        "# Você pode alterar os valores como quiser\n",
        "VP = 42   # Verdadeiros Positivos\n",
        "FN = 8    # Falsos Negativos\n",
        "FP = 5    # Falsos Positivos\n",
        "VN = 45   # Verdadeiros Negativos\n",
        "\n",
        "# Calculando métricas\n",
        "print(\"Matriz de Confusão: \")\n",
        "print(f\"VP={VP}, FN={FN}, FP={FP}, VN={VN}\\n\")\n",
        "\n",
        "print(\"Métricas de Avaliação:\")\n",
        "print(f\"Sensibilidade (Recall): {sensibilidade(VP, FN):.2f}\")\n",
        "print(f\"Especificidade: {especificidade(VN, FP):.2f}\")\n",
        "print(f\"Acurácia: {acuracia(VP, VN, FP, FN):.2f}\")\n",
        "print(f\"Precisão: {precisao(VP, FP):.2f}\")\n",
        "print(f\"F-score: {f_score(VP, FP, FN):.2f}\")\n"
      ]
    }
  ]
}